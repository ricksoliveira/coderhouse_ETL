{
  "cells": [
    {
      "cell_type": "markdown",
      "metadata": {
        "id": "EKKWRGzF63fh"
      },
      "source": [
        "# 0 - LIB IMPORTS"
      ]
    },
    {
      "cell_type": "code",
      "execution_count": 111,
      "metadata": {
        "id": "k53NMVNEwPz6"
      },
      "outputs": [],
      "source": [
        "import pandas as pd\n",
        "from plyer import notification\n",
        "import datetime\n",
        "import requests\n",
        "import sqlite3\n",
        "from sqlite3 import InterfaceError"
      ]
    },
    {
      "cell_type": "markdown",
      "metadata": {
        "id": "_gFlejFHxJCN"
      },
      "source": [
        "# 1 - ALERT FUNCTION DEFINITION"
      ]
    },
    {
      "cell_type": "code",
      "execution_count": 97,
      "metadata": {
        "id": "sZ-emXVWgCWQ"
      },
      "outputs": [],
      "source": [
        "def alert(level, database, step):\n",
        "\n",
        "    if level not in [1,2,3]:\n",
        "        print(f\"Alert level [{level}] not recognized, must be 1, 2 or 3.\")\n",
        "\n",
        "    else:\n",
        "\n",
        "        if level == 1:\n",
        "            alertTitle = \"Attention: Low Alert\"\n",
        "\n",
        "        elif level == 2:\n",
        "            alertTitle = \"Attention: Medium Alert\"\n",
        "\n",
        "        else:\n",
        "            alertTitle = \"ATTENTION: HIGH ALERT !!\"\n",
        "\n",
        "        alertDate = datetime.datetime.now()\n",
        "        alertMessage = f\"\\nFailed to load database [{database}] at the step [{step}]\\nTime of Alert: [{alertDate}]\"\n",
        "\n",
        "        notification.notify(title = alertTitle,\n",
        "                            message = alertMessage,\n",
        "                            timeout = 10)"
      ]
    },
    {
      "cell_type": "markdown",
      "metadata": {
        "id": "3PgJ_aBl75B_"
      },
      "source": [
        "# 2 - EXTRACTION"
      ]
    },
    {
      "cell_type": "markdown",
      "metadata": {
        "id": "PFPgLcEt8UJd"
      },
      "source": [
        "### 2.1 - GET FROM COUNTRIES API\n"
      ]
    },
    {
      "cell_type": "code",
      "execution_count": 98,
      "metadata": {
        "id": "-vD7pKenh8LE"
      },
      "outputs": [],
      "source": [
        "COUNTRIES_URL = \"https://restcountries.com/v3.1/all\"\n",
        "\n",
        "try:\n",
        "    response = requests.get(COUNTRIES_URL)\n",
        "\n",
        "    if response.status_code == 200:\n",
        "        jsonResponse = response.json()\n",
        "        countries_df = pd.DataFrame(jsonResponse)\n",
        "\n",
        "    else:\n",
        "        print(\"Could not get response, Status Code:\", response.status_code)\n",
        "        alert(3, \"countries_dataframe\", \"API URL Get\")\n",
        "\n",
        "except requests.exceptions.RequestException as err:\n",
        "    print(err)\n",
        "    alert(3, \"countries_dataframe\", \"API URL Get\")"
      ]
    },
    {
      "cell_type": "markdown",
      "metadata": {
        "id": "XxJ_jjxk8KxX"
      },
      "source": [
        "### - 2.2 - FIRST ANALYSIS"
      ]
    },
    {
      "cell_type": "code",
      "execution_count": 99,
      "metadata": {
        "colab": {
          "base_uri": "https://localhost:8080/"
        },
        "id": "UVKo3LVm8AZM",
        "outputId": "06793262-caef-471e-91e2-f3099dc714c9"
      },
      "outputs": [
        {
          "data": {
            "text/plain": [
              "Index(['name', 'tld', 'cca2', 'ccn3', 'cca3', 'cioc', 'independent', 'status',\n",
              "       'unMember', 'currencies', 'idd', 'capital', 'altSpellings', 'region',\n",
              "       'subregion', 'languages', 'translations', 'latlng', 'landlocked',\n",
              "       'area', 'demonyms', 'flag', 'maps', 'population', 'gini', 'fifa', 'car',\n",
              "       'timezones', 'continents', 'flags', 'coatOfArms', 'startOfWeek',\n",
              "       'capitalInfo', 'postalCode', 'borders'],\n",
              "      dtype='object')"
            ]
          },
          "execution_count": 99,
          "metadata": {},
          "output_type": "execute_result"
        }
      ],
      "source": [
        "countries_df.columns"
      ]
    },
    {
      "cell_type": "code",
      "execution_count": 100,
      "metadata": {
        "colab": {
          "base_uri": "https://localhost:8080/"
        },
        "id": "q3_EOjyT8F1P",
        "outputId": "b568849e-b585-42a1-9649-68b3ae1d7871"
      },
      "outputs": [
        {
          "name": "stdout",
          "output_type": "stream",
          "text": [
            "<class 'pandas.core.frame.DataFrame'>\n",
            "RangeIndex: 250 entries, 0 to 249\n",
            "Data columns (total 35 columns):\n",
            " #   Column        Non-Null Count  Dtype  \n",
            "---  ------        --------------  -----  \n",
            " 0   name          250 non-null    object \n",
            " 1   tld           249 non-null    object \n",
            " 2   cca2          250 non-null    object \n",
            " 3   ccn3          249 non-null    object \n",
            " 4   cca3          250 non-null    object \n",
            " 5   cioc          206 non-null    object \n",
            " 6   independent   249 non-null    object \n",
            " 7   status        250 non-null    object \n",
            " 8   unMember      250 non-null    bool   \n",
            " 9   currencies    247 non-null    object \n",
            " 10  idd           250 non-null    object \n",
            " 11  capital       246 non-null    object \n",
            " 12  altSpellings  250 non-null    object \n",
            " 13  region        250 non-null    object \n",
            " 14  subregion     245 non-null    object \n",
            " 15  languages     249 non-null    object \n",
            " 16  translations  250 non-null    object \n",
            " 17  latlng        250 non-null    object \n",
            " 18  landlocked    250 non-null    bool   \n",
            " 19  area          250 non-null    float64\n",
            " 20  demonyms      249 non-null    object \n",
            " 21  flag          250 non-null    object \n",
            " 22  maps          250 non-null    object \n",
            " 23  population    250 non-null    int64  \n",
            " 24  gini          167 non-null    object \n",
            " 25  fifa          206 non-null    object \n",
            " 26  car           250 non-null    object \n",
            " 27  timezones     250 non-null    object \n",
            " 28  continents    250 non-null    object \n",
            " 29  flags         250 non-null    object \n",
            " 30  coatOfArms    250 non-null    object \n",
            " 31  startOfWeek   250 non-null    object \n",
            " 32  capitalInfo   250 non-null    object \n",
            " 33  postalCode    149 non-null    object \n",
            " 34  borders       165 non-null    object \n",
            "dtypes: bool(2), float64(1), int64(1), object(31)\n",
            "memory usage: 65.1+ KB\n"
          ]
        }
      ],
      "source": [
        "countries_df.info()"
      ]
    },
    {
      "cell_type": "markdown",
      "metadata": {
        "id": "DxV73PChjBQy"
      },
      "source": [
        "# 3 - TRANSFORMATION"
      ]
    },
    {
      "cell_type": "markdown",
      "metadata": {
        "id": "YKJxEAwezSb9"
      },
      "source": [
        "### 3.1 - DATAFRAME SEPARATION"
      ]
    },
    {
      "cell_type": "code",
      "execution_count": 101,
      "metadata": {
        "id": "M69mrRSiiCik"
      },
      "outputs": [],
      "source": [
        "try:\n",
        "\n",
        "    countries_name = [resp[\"common\"] for resp in countries_df[\"name\"]]\n",
        "    is_un_member = [resp for resp in countries_df[\"unMember\"]]\n",
        "    population = [resp for resp in countries_df[\"population\"]]\n",
        "    capitals = [resp for resp in countries_df[\"capital\"]]\n",
        "\n",
        "    continents = [resp for resp in countries_df[\"continents\"]]\n",
        "    areas = [resp for resp in countries_df[\"area\"]]\n",
        "    borders = [resp for resp in countries_df[\"borders\"]]\n",
        "\n",
        "    region = [resp for resp in countries_df[\"region\"]]\n",
        "    subregion = [resp for resp in countries_df[\"subregion\"]]\n",
        "    timezones = [resp for resp in countries_df[\"timezones\"]]\n",
        "\n",
        "    social_status_df = pd.DataFrame({\n",
        "        \"Name\": countries_name,\n",
        "        \"Capital\": capitals,\n",
        "        \"Is_UN_member\": is_un_member,\n",
        "        \"Population\": population\n",
        "    })\n",
        "\n",
        "    borders_df = pd.DataFrame({\n",
        "        \"Name\": countries_name,\n",
        "        \"Continent\": continents,\n",
        "        \"Area\": areas,\n",
        "        \"Border_with\": borders\n",
        "    })\n",
        "\n",
        "    region_time_df = pd.DataFrame({\n",
        "        \"Name\": countries_name,\n",
        "        \"Region\": region,\n",
        "        \"Subregion\": subregion,\n",
        "        \"Timezones\": timezones\n",
        "    })\n",
        "\n",
        "except KeyError as err:\n",
        "\n",
        "    print(\"Column not found:\", err)\n",
        "    alert(2, \"countries_dataframe\", \"Data sub-df creation\")"
      ]
    },
    {
      "cell_type": "code",
      "execution_count": 102,
      "metadata": {
        "colab": {
          "base_uri": "https://localhost:8080/",
          "height": 206
        },
        "id": "VhL5pNywiDQb",
        "outputId": "5fef1831-46b3-4c3c-b726-e8b4b9d90c78"
      },
      "outputs": [
        {
          "data": {
            "text/html": [
              "<div>\n",
              "<style scoped>\n",
              "    .dataframe tbody tr th:only-of-type {\n",
              "        vertical-align: middle;\n",
              "    }\n",
              "\n",
              "    .dataframe tbody tr th {\n",
              "        vertical-align: top;\n",
              "    }\n",
              "\n",
              "    .dataframe thead th {\n",
              "        text-align: right;\n",
              "    }\n",
              "</style>\n",
              "<table border=\"1\" class=\"dataframe\">\n",
              "  <thead>\n",
              "    <tr style=\"text-align: right;\">\n",
              "      <th></th>\n",
              "      <th>Name</th>\n",
              "      <th>Capital</th>\n",
              "      <th>Is_UN_member</th>\n",
              "      <th>Population</th>\n",
              "    </tr>\n",
              "  </thead>\n",
              "  <tbody>\n",
              "    <tr>\n",
              "      <th>0</th>\n",
              "      <td>Cyprus</td>\n",
              "      <td>[Nicosia]</td>\n",
              "      <td>True</td>\n",
              "      <td>1207361</td>\n",
              "    </tr>\n",
              "    <tr>\n",
              "      <th>1</th>\n",
              "      <td>Eritrea</td>\n",
              "      <td>[Asmara]</td>\n",
              "      <td>True</td>\n",
              "      <td>5352000</td>\n",
              "    </tr>\n",
              "    <tr>\n",
              "      <th>2</th>\n",
              "      <td>Liberia</td>\n",
              "      <td>[Monrovia]</td>\n",
              "      <td>True</td>\n",
              "      <td>5057677</td>\n",
              "    </tr>\n",
              "    <tr>\n",
              "      <th>3</th>\n",
              "      <td>Bermuda</td>\n",
              "      <td>[Hamilton]</td>\n",
              "      <td>False</td>\n",
              "      <td>63903</td>\n",
              "    </tr>\n",
              "    <tr>\n",
              "      <th>4</th>\n",
              "      <td>Vatican City</td>\n",
              "      <td>[Vatican City]</td>\n",
              "      <td>True</td>\n",
              "      <td>451</td>\n",
              "    </tr>\n",
              "  </tbody>\n",
              "</table>\n",
              "</div>"
            ],
            "text/plain": [
              "           Name         Capital  Is_UN_member  Population\n",
              "0        Cyprus       [Nicosia]          True     1207361\n",
              "1       Eritrea        [Asmara]          True     5352000\n",
              "2       Liberia      [Monrovia]          True     5057677\n",
              "3       Bermuda      [Hamilton]         False       63903\n",
              "4  Vatican City  [Vatican City]          True         451"
            ]
          },
          "execution_count": 102,
          "metadata": {},
          "output_type": "execute_result"
        }
      ],
      "source": [
        "social_status_df.head(5)"
      ]
    },
    {
      "cell_type": "code",
      "execution_count": 103,
      "metadata": {
        "colab": {
          "base_uri": "https://localhost:8080/",
          "height": 206
        },
        "id": "jvHRJ72miEx-",
        "outputId": "e25d6a49-f389-4525-9a2f-24fb1f7cba96"
      },
      "outputs": [
        {
          "data": {
            "text/html": [
              "<div>\n",
              "<style scoped>\n",
              "    .dataframe tbody tr th:only-of-type {\n",
              "        vertical-align: middle;\n",
              "    }\n",
              "\n",
              "    .dataframe tbody tr th {\n",
              "        vertical-align: top;\n",
              "    }\n",
              "\n",
              "    .dataframe thead th {\n",
              "        text-align: right;\n",
              "    }\n",
              "</style>\n",
              "<table border=\"1\" class=\"dataframe\">\n",
              "  <thead>\n",
              "    <tr style=\"text-align: right;\">\n",
              "      <th></th>\n",
              "      <th>Name</th>\n",
              "      <th>Continent</th>\n",
              "      <th>Area</th>\n",
              "      <th>Border_with</th>\n",
              "    </tr>\n",
              "  </thead>\n",
              "  <tbody>\n",
              "    <tr>\n",
              "      <th>0</th>\n",
              "      <td>Cyprus</td>\n",
              "      <td>[Europe]</td>\n",
              "      <td>9251.00</td>\n",
              "      <td>NaN</td>\n",
              "    </tr>\n",
              "    <tr>\n",
              "      <th>1</th>\n",
              "      <td>Eritrea</td>\n",
              "      <td>[Africa]</td>\n",
              "      <td>117600.00</td>\n",
              "      <td>[DJI, ETH, SDN]</td>\n",
              "    </tr>\n",
              "    <tr>\n",
              "      <th>2</th>\n",
              "      <td>Liberia</td>\n",
              "      <td>[Africa]</td>\n",
              "      <td>111369.00</td>\n",
              "      <td>[GIN, CIV, SLE]</td>\n",
              "    </tr>\n",
              "    <tr>\n",
              "      <th>3</th>\n",
              "      <td>Bermuda</td>\n",
              "      <td>[North America]</td>\n",
              "      <td>54.00</td>\n",
              "      <td>NaN</td>\n",
              "    </tr>\n",
              "    <tr>\n",
              "      <th>4</th>\n",
              "      <td>Vatican City</td>\n",
              "      <td>[Europe]</td>\n",
              "      <td>0.44</td>\n",
              "      <td>[ITA]</td>\n",
              "    </tr>\n",
              "  </tbody>\n",
              "</table>\n",
              "</div>"
            ],
            "text/plain": [
              "           Name        Continent       Area      Border_with\n",
              "0        Cyprus         [Europe]    9251.00              NaN\n",
              "1       Eritrea         [Africa]  117600.00  [DJI, ETH, SDN]\n",
              "2       Liberia         [Africa]  111369.00  [GIN, CIV, SLE]\n",
              "3       Bermuda  [North America]      54.00              NaN\n",
              "4  Vatican City         [Europe]       0.44            [ITA]"
            ]
          },
          "execution_count": 103,
          "metadata": {},
          "output_type": "execute_result"
        }
      ],
      "source": [
        "borders_df.head(5)"
      ]
    },
    {
      "cell_type": "code",
      "execution_count": 104,
      "metadata": {
        "colab": {
          "base_uri": "https://localhost:8080/",
          "height": 206
        },
        "id": "I5fcDbVDiGSE",
        "outputId": "34eda1a8-59d8-483f-e824-e781db63f2c9"
      },
      "outputs": [
        {
          "data": {
            "text/html": [
              "<div>\n",
              "<style scoped>\n",
              "    .dataframe tbody tr th:only-of-type {\n",
              "        vertical-align: middle;\n",
              "    }\n",
              "\n",
              "    .dataframe tbody tr th {\n",
              "        vertical-align: top;\n",
              "    }\n",
              "\n",
              "    .dataframe thead th {\n",
              "        text-align: right;\n",
              "    }\n",
              "</style>\n",
              "<table border=\"1\" class=\"dataframe\">\n",
              "  <thead>\n",
              "    <tr style=\"text-align: right;\">\n",
              "      <th></th>\n",
              "      <th>Name</th>\n",
              "      <th>Region</th>\n",
              "      <th>Subregion</th>\n",
              "      <th>Timezones</th>\n",
              "    </tr>\n",
              "  </thead>\n",
              "  <tbody>\n",
              "    <tr>\n",
              "      <th>0</th>\n",
              "      <td>Cyprus</td>\n",
              "      <td>Europe</td>\n",
              "      <td>Southern Europe</td>\n",
              "      <td>[UTC+02:00]</td>\n",
              "    </tr>\n",
              "    <tr>\n",
              "      <th>1</th>\n",
              "      <td>Eritrea</td>\n",
              "      <td>Africa</td>\n",
              "      <td>Eastern Africa</td>\n",
              "      <td>[UTC+03:00]</td>\n",
              "    </tr>\n",
              "    <tr>\n",
              "      <th>2</th>\n",
              "      <td>Liberia</td>\n",
              "      <td>Africa</td>\n",
              "      <td>Western Africa</td>\n",
              "      <td>[UTC]</td>\n",
              "    </tr>\n",
              "    <tr>\n",
              "      <th>3</th>\n",
              "      <td>Bermuda</td>\n",
              "      <td>Americas</td>\n",
              "      <td>North America</td>\n",
              "      <td>[UTC-04:00]</td>\n",
              "    </tr>\n",
              "    <tr>\n",
              "      <th>4</th>\n",
              "      <td>Vatican City</td>\n",
              "      <td>Europe</td>\n",
              "      <td>Southern Europe</td>\n",
              "      <td>[UTC+01:00]</td>\n",
              "    </tr>\n",
              "  </tbody>\n",
              "</table>\n",
              "</div>"
            ],
            "text/plain": [
              "           Name    Region        Subregion    Timezones\n",
              "0        Cyprus    Europe  Southern Europe  [UTC+02:00]\n",
              "1       Eritrea    Africa   Eastern Africa  [UTC+03:00]\n",
              "2       Liberia    Africa   Western Africa        [UTC]\n",
              "3       Bermuda  Americas    North America  [UTC-04:00]\n",
              "4  Vatican City    Europe  Southern Europe  [UTC+01:00]"
            ]
          },
          "execution_count": 104,
          "metadata": {},
          "output_type": "execute_result"
        }
      ],
      "source": [
        "region_time_df.head(5)"
      ]
    },
    {
      "cell_type": "markdown",
      "metadata": {
        "id": "ZTv01GNGzsDb"
      },
      "source": [
        "### 3.2 - TREATING NaN"
      ]
    },
    {
      "cell_type": "code",
      "execution_count": 105,
      "metadata": {
        "id": "iATIeAsJiKOp"
      },
      "outputs": [],
      "source": [
        "fillNa = {'Border_with': 'Island'}\n",
        "borders_df = borders_df.fillna(fillNa)\n",
        "\n",
        "fillNa = {'Capital': 'International'}\n",
        "social_status_df = social_status_df.fillna(fillNa)"
      ]
    },
    {
      "cell_type": "markdown",
      "metadata": {
        "id": "yPpvtCzy6YU-"
      },
      "source": [
        "### 3.3 - REMOVING DUPLICATES"
      ]
    },
    {
      "cell_type": "code",
      "execution_count": 106,
      "metadata": {
        "colab": {
          "base_uri": "https://localhost:8080/",
          "height": 391
        },
        "id": "By1ItiOt0zLA",
        "outputId": "004196eb-9210-4344-a08e-1bfd3d69135d"
      },
      "outputs": [],
      "source": [
        "try:\n",
        "\n",
        "    social_status_df['Capital'] = social_status_df['Capital'].apply(lambda x: x[0] if isinstance(x, list) else x)\n",
        "    borders_df['Continent'] = borders_df['Continent'].apply(lambda x: x[0] if isinstance(x, list) else x)\n",
        "\n",
        "    social_status_df = social_status_df.drop_duplicates(['Name', 'Capital', 'Is_UN_member', 'Population'])\n",
        "    borders_df = borders_df.drop_duplicates(['Name', 'Continent', 'Area'])\n",
        "    region_time_df = region_time_df.drop_duplicates(['Name', 'Region', 'Subregion'])\n",
        "\n",
        "except TypeError as err:\n",
        "\n",
        "    print(\"Some column is preventing from droping duplicates.\")\n",
        "    print(\"Check for column with the types:\", err)\n",
        "    alert(3, \"countries_dataframe\", \"Duplicates Drop at Transformation step\")"
      ]
    },
    {
      "cell_type": "markdown",
      "metadata": {
        "id": "qmTWQZi25bkQ"
      },
      "source": [
        "# 4 - LOAD"
      ]
    },
    {
      "cell_type": "markdown",
      "metadata": {
        "id": "wCqAH3pr5ikv"
      },
      "source": [
        "### 4.1 - CREATING DATABASE"
      ]
    },
    {
      "cell_type": "code",
      "execution_count": 107,
      "metadata": {},
      "outputs": [],
      "source": [
        "def save_db(df: pd.DataFrame, table_name, db_name):\n",
        "    conn = sqlite3.connect(db_name)\n",
        "    df.to_sql(table_name, conn, if_exists = \"replace\", index = False)\n",
        "    conn.close()\n",
        "    return True\n",
        "\n",
        "def read_table(db_name, query):\n",
        "    conn = sqlite3.connect(db_name)\n",
        "    result = pd.read_sql(query, conn)\n",
        "    conn.close()\n",
        "    return result"
      ]
    },
    {
      "cell_type": "markdown",
      "metadata": {},
      "source": [
        "### 4.2 - LOADING DATAFRAMES TO TABLES"
      ]
    },
    {
      "cell_type": "code",
      "execution_count": 114,
      "metadata": {},
      "outputs": [],
      "source": [
        "try:\n",
        "\n",
        "    region_time_df['Timezones'] = region_time_df['Timezones'].astype(str)\n",
        "    borders_df['Border_with'] = borders_df['Border_with'].astype(str)\n",
        "\n",
        "    save_db(borders_df, \"borders\", \"db_projeto_final1.db\")\n",
        "    save_db(social_status_df, \"social_status\", \"db_projeto_final1.db\")\n",
        "    save_db(region_time_df, \"region_time\", \"db_projeto_final1.db\")\n",
        "\n",
        "except InterfaceError as err:\n",
        "    \n",
        "    print(\"Some column has unsupported value for SQL.\")\n",
        "    print(\"Check for column with non primitive types.\", err)\n",
        "    alert(3, \"countries_dataframe\", \"Load df to SQL step\")\n"
      ]
    },
    {
      "cell_type": "markdown",
      "metadata": {},
      "source": [
        "### 4.3 - VALIDATING DATA"
      ]
    },
    {
      "cell_type": "code",
      "execution_count": null,
      "metadata": {},
      "outputs": [
        {
          "data": {
            "text/html": [
              "<div>\n",
              "<style scoped>\n",
              "    .dataframe tbody tr th:only-of-type {\n",
              "        vertical-align: middle;\n",
              "    }\n",
              "\n",
              "    .dataframe tbody tr th {\n",
              "        vertical-align: top;\n",
              "    }\n",
              "\n",
              "    .dataframe thead th {\n",
              "        text-align: right;\n",
              "    }\n",
              "</style>\n",
              "<table border=\"1\" class=\"dataframe\">\n",
              "  <thead>\n",
              "    <tr style=\"text-align: right;\">\n",
              "      <th></th>\n",
              "      <th>Name</th>\n",
              "      <th>Capital</th>\n",
              "      <th>Population</th>\n",
              "    </tr>\n",
              "  </thead>\n",
              "  <tbody>\n",
              "    <tr>\n",
              "      <th>0</th>\n",
              "      <td>Bouvet Island</td>\n",
              "      <td>International</td>\n",
              "      <td>0</td>\n",
              "    </tr>\n",
              "    <tr>\n",
              "      <th>1</th>\n",
              "      <td>Heard Island and McDonald Islands</td>\n",
              "      <td>International</td>\n",
              "      <td>0</td>\n",
              "    </tr>\n",
              "    <tr>\n",
              "      <th>2</th>\n",
              "      <td>South Georgia</td>\n",
              "      <td>King Edward Point</td>\n",
              "      <td>30</td>\n",
              "    </tr>\n",
              "    <tr>\n",
              "      <th>3</th>\n",
              "      <td>Pitcairn Islands</td>\n",
              "      <td>Adamstown</td>\n",
              "      <td>56</td>\n",
              "    </tr>\n",
              "    <tr>\n",
              "      <th>4</th>\n",
              "      <td>United States Minor Outlying Islands</td>\n",
              "      <td>Washington DC</td>\n",
              "      <td>300</td>\n",
              "    </tr>\n",
              "    <tr>\n",
              "      <th>5</th>\n",
              "      <td>French Southern and Antarctic Lands</td>\n",
              "      <td>Port-aux-Français</td>\n",
              "      <td>400</td>\n",
              "    </tr>\n",
              "    <tr>\n",
              "      <th>6</th>\n",
              "      <td>Vatican City</td>\n",
              "      <td>Vatican City</td>\n",
              "      <td>451</td>\n",
              "    </tr>\n",
              "    <tr>\n",
              "      <th>7</th>\n",
              "      <td>Cocos (Keeling) Islands</td>\n",
              "      <td>West Island</td>\n",
              "      <td>544</td>\n",
              "    </tr>\n",
              "    <tr>\n",
              "      <th>8</th>\n",
              "      <td>Antarctica</td>\n",
              "      <td>International</td>\n",
              "      <td>1000</td>\n",
              "    </tr>\n",
              "    <tr>\n",
              "      <th>9</th>\n",
              "      <td>Tokelau</td>\n",
              "      <td>Fakaofo</td>\n",
              "      <td>1411</td>\n",
              "    </tr>\n",
              "    <tr>\n",
              "      <th>10</th>\n",
              "      <td>Niue</td>\n",
              "      <td>Alofi</td>\n",
              "      <td>1470</td>\n",
              "    </tr>\n",
              "    <tr>\n",
              "      <th>11</th>\n",
              "      <td>Christmas Island</td>\n",
              "      <td>Flying Fish Cove</td>\n",
              "      <td>2072</td>\n",
              "    </tr>\n",
              "    <tr>\n",
              "      <th>12</th>\n",
              "      <td>Norfolk Island</td>\n",
              "      <td>Kingston</td>\n",
              "      <td>2302</td>\n",
              "    </tr>\n",
              "    <tr>\n",
              "      <th>13</th>\n",
              "      <td>Svalbard and Jan Mayen</td>\n",
              "      <td>Longyearbyen</td>\n",
              "      <td>2562</td>\n",
              "    </tr>\n",
              "    <tr>\n",
              "      <th>14</th>\n",
              "      <td>Falkland Islands</td>\n",
              "      <td>Stanley</td>\n",
              "      <td>2563</td>\n",
              "    </tr>\n",
              "    <tr>\n",
              "      <th>15</th>\n",
              "      <td>British Indian Ocean Territory</td>\n",
              "      <td>Diego Garcia</td>\n",
              "      <td>3000</td>\n",
              "    </tr>\n",
              "    <tr>\n",
              "      <th>16</th>\n",
              "      <td>Saint Barthélemy</td>\n",
              "      <td>Gustavia</td>\n",
              "      <td>4255</td>\n",
              "    </tr>\n",
              "    <tr>\n",
              "      <th>17</th>\n",
              "      <td>Montserrat</td>\n",
              "      <td>Plymouth</td>\n",
              "      <td>4922</td>\n",
              "    </tr>\n",
              "    <tr>\n",
              "      <th>18</th>\n",
              "      <td>Saint Pierre and Miquelon</td>\n",
              "      <td>Saint-Pierre</td>\n",
              "      <td>6069</td>\n",
              "    </tr>\n",
              "  </tbody>\n",
              "</table>\n",
              "</div>"
            ],
            "text/plain": [
              "                                    Name            Capital  Population\n",
              "0                          Bouvet Island      International           0\n",
              "1      Heard Island and McDonald Islands      International           0\n",
              "2                          South Georgia  King Edward Point          30\n",
              "3                       Pitcairn Islands          Adamstown          56\n",
              "4   United States Minor Outlying Islands      Washington DC         300\n",
              "5    French Southern and Antarctic Lands  Port-aux-Français         400\n",
              "6                           Vatican City       Vatican City         451\n",
              "7                Cocos (Keeling) Islands        West Island         544\n",
              "8                             Antarctica      International        1000\n",
              "9                                Tokelau            Fakaofo        1411\n",
              "10                                  Niue              Alofi        1470\n",
              "11                      Christmas Island   Flying Fish Cove        2072\n",
              "12                        Norfolk Island           Kingston        2302\n",
              "13                Svalbard and Jan Mayen       Longyearbyen        2562\n",
              "14                      Falkland Islands            Stanley        2563\n",
              "15        British Indian Ocean Territory       Diego Garcia        3000\n",
              "16                      Saint Barthélemy           Gustavia        4255\n",
              "17                            Montserrat           Plymouth        4922\n",
              "18             Saint Pierre and Miquelon       Saint-Pierre        6069"
            ]
          },
          "execution_count": 75,
          "metadata": {},
          "output_type": "execute_result"
        }
      ],
      "source": [
        "query = \"select name, capital, population from social_status where population < 10000 order by 3\"\n",
        "read_table(\"db_projeto_final1.db\", query)"
      ]
    },
    {
      "cell_type": "code",
      "execution_count": null,
      "metadata": {},
      "outputs": [
        {
          "data": {
            "text/html": [
              "<div>\n",
              "<style scoped>\n",
              "    .dataframe tbody tr th:only-of-type {\n",
              "        vertical-align: middle;\n",
              "    }\n",
              "\n",
              "    .dataframe tbody tr th {\n",
              "        vertical-align: top;\n",
              "    }\n",
              "\n",
              "    .dataframe thead th {\n",
              "        text-align: right;\n",
              "    }\n",
              "</style>\n",
              "<table border=\"1\" class=\"dataframe\">\n",
              "  <thead>\n",
              "    <tr style=\"text-align: right;\">\n",
              "      <th></th>\n",
              "      <th>Name</th>\n",
              "      <th>Area</th>\n",
              "    </tr>\n",
              "  </thead>\n",
              "  <tbody>\n",
              "    <tr>\n",
              "      <th>0</th>\n",
              "      <td>France</td>\n",
              "      <td>551695.00</td>\n",
              "    </tr>\n",
              "    <tr>\n",
              "      <th>1</th>\n",
              "      <td>Austria</td>\n",
              "      <td>83871.00</td>\n",
              "    </tr>\n",
              "    <tr>\n",
              "      <th>2</th>\n",
              "      <td>Switzerland</td>\n",
              "      <td>41284.00</td>\n",
              "    </tr>\n",
              "    <tr>\n",
              "      <th>3</th>\n",
              "      <td>Slovenia</td>\n",
              "      <td>20273.00</td>\n",
              "    </tr>\n",
              "    <tr>\n",
              "      <th>4</th>\n",
              "      <td>San Marino</td>\n",
              "      <td>61.00</td>\n",
              "    </tr>\n",
              "    <tr>\n",
              "      <th>5</th>\n",
              "      <td>Vatican City</td>\n",
              "      <td>0.44</td>\n",
              "    </tr>\n",
              "  </tbody>\n",
              "</table>\n",
              "</div>"
            ],
            "text/plain": [
              "           Name       Area\n",
              "0        France  551695.00\n",
              "1       Austria   83871.00\n",
              "2   Switzerland   41284.00\n",
              "3      Slovenia   20273.00\n",
              "4    San Marino      61.00\n",
              "5  Vatican City       0.44"
            ]
          },
          "execution_count": 76,
          "metadata": {},
          "output_type": "execute_result"
        }
      ],
      "source": [
        "query = \"select name, area from borders where border_with like '%ITA%' order by area desc\"\n",
        "read_table(\"db_projeto_final1.db\", query)"
      ]
    },
    {
      "cell_type": "code",
      "execution_count": null,
      "metadata": {},
      "outputs": [
        {
          "data": {
            "text/html": [
              "<div>\n",
              "<style scoped>\n",
              "    .dataframe tbody tr th:only-of-type {\n",
              "        vertical-align: middle;\n",
              "    }\n",
              "\n",
              "    .dataframe tbody tr th {\n",
              "        vertical-align: top;\n",
              "    }\n",
              "\n",
              "    .dataframe thead th {\n",
              "        text-align: right;\n",
              "    }\n",
              "</style>\n",
              "<table border=\"1\" class=\"dataframe\">\n",
              "  <thead>\n",
              "    <tr style=\"text-align: right;\">\n",
              "      <th></th>\n",
              "      <th>Name</th>\n",
              "      <th>Area</th>\n",
              "      <th>Timezones</th>\n",
              "    </tr>\n",
              "  </thead>\n",
              "  <tbody>\n",
              "    <tr>\n",
              "      <th>0</th>\n",
              "      <td>France</td>\n",
              "      <td>551695.00</td>\n",
              "      <td>['UTC-10:00', 'UTC-09:30', 'UTC-09:00', 'UTC-0...</td>\n",
              "    </tr>\n",
              "    <tr>\n",
              "      <th>1</th>\n",
              "      <td>Austria</td>\n",
              "      <td>83871.00</td>\n",
              "      <td>['UTC+01:00']</td>\n",
              "    </tr>\n",
              "    <tr>\n",
              "      <th>2</th>\n",
              "      <td>Switzerland</td>\n",
              "      <td>41284.00</td>\n",
              "      <td>['UTC+01:00']</td>\n",
              "    </tr>\n",
              "    <tr>\n",
              "      <th>3</th>\n",
              "      <td>Slovenia</td>\n",
              "      <td>20273.00</td>\n",
              "      <td>['UTC+01:00']</td>\n",
              "    </tr>\n",
              "    <tr>\n",
              "      <th>4</th>\n",
              "      <td>San Marino</td>\n",
              "      <td>61.00</td>\n",
              "      <td>['UTC+01:00']</td>\n",
              "    </tr>\n",
              "    <tr>\n",
              "      <th>5</th>\n",
              "      <td>Vatican City</td>\n",
              "      <td>0.44</td>\n",
              "      <td>['UTC+01:00']</td>\n",
              "    </tr>\n",
              "  </tbody>\n",
              "</table>\n",
              "</div>"
            ],
            "text/plain": [
              "           Name       Area                                          Timezones\n",
              "0        France  551695.00  ['UTC-10:00', 'UTC-09:30', 'UTC-09:00', 'UTC-0...\n",
              "1       Austria   83871.00                                      ['UTC+01:00']\n",
              "2   Switzerland   41284.00                                      ['UTC+01:00']\n",
              "3      Slovenia   20273.00                                      ['UTC+01:00']\n",
              "4    San Marino      61.00                                      ['UTC+01:00']\n",
              "5  Vatican City       0.44                                      ['UTC+01:00']"
            ]
          },
          "execution_count": 89,
          "metadata": {},
          "output_type": "execute_result"
        }
      ],
      "source": [
        "query = \"\"\"\n",
        "            select b.name, b.area, r.timezones\n",
        "            from borders b\n",
        "            join region_time r on r.name = b.name\n",
        "            where b.border_with like '%ITA%'\n",
        "            order by b.area desc\n",
        "        \"\"\"\n",
        "read_table(\"db_projeto_final1.db\", query)"
      ]
    },
    {
      "cell_type": "code",
      "execution_count": null,
      "metadata": {},
      "outputs": [
        {
          "data": {
            "text/html": [
              "<div>\n",
              "<style scoped>\n",
              "    .dataframe tbody tr th:only-of-type {\n",
              "        vertical-align: middle;\n",
              "    }\n",
              "\n",
              "    .dataframe tbody tr th {\n",
              "        vertical-align: top;\n",
              "    }\n",
              "\n",
              "    .dataframe thead th {\n",
              "        text-align: right;\n",
              "    }\n",
              "</style>\n",
              "<table border=\"1\" class=\"dataframe\">\n",
              "  <thead>\n",
              "    <tr style=\"text-align: right;\">\n",
              "      <th></th>\n",
              "      <th>Name</th>\n",
              "      <th>Capital</th>\n",
              "      <th>Is_UN_member</th>\n",
              "      <th>Population</th>\n",
              "      <th>Continent</th>\n",
              "      <th>Area</th>\n",
              "      <th>Border_with</th>\n",
              "      <th>Region</th>\n",
              "      <th>Subregion</th>\n",
              "      <th>Timezones</th>\n",
              "    </tr>\n",
              "  </thead>\n",
              "  <tbody>\n",
              "    <tr>\n",
              "      <th>0</th>\n",
              "      <td>Cyprus</td>\n",
              "      <td>Nicosia</td>\n",
              "      <td>True</td>\n",
              "      <td>1207361</td>\n",
              "      <td>Europe</td>\n",
              "      <td>9251.00</td>\n",
              "      <td>Island</td>\n",
              "      <td>Europe</td>\n",
              "      <td>Southern Europe</td>\n",
              "      <td>['UTC+02:00']</td>\n",
              "    </tr>\n",
              "    <tr>\n",
              "      <th>1</th>\n",
              "      <td>Eritrea</td>\n",
              "      <td>Asmara</td>\n",
              "      <td>True</td>\n",
              "      <td>5352000</td>\n",
              "      <td>Africa</td>\n",
              "      <td>117600.00</td>\n",
              "      <td>['DJI', 'ETH', 'SDN']</td>\n",
              "      <td>Africa</td>\n",
              "      <td>Eastern Africa</td>\n",
              "      <td>['UTC+03:00']</td>\n",
              "    </tr>\n",
              "    <tr>\n",
              "      <th>2</th>\n",
              "      <td>Liberia</td>\n",
              "      <td>Monrovia</td>\n",
              "      <td>True</td>\n",
              "      <td>5057677</td>\n",
              "      <td>Africa</td>\n",
              "      <td>111369.00</td>\n",
              "      <td>['GIN', 'CIV', 'SLE']</td>\n",
              "      <td>Africa</td>\n",
              "      <td>Western Africa</td>\n",
              "      <td>['UTC']</td>\n",
              "    </tr>\n",
              "    <tr>\n",
              "      <th>3</th>\n",
              "      <td>Bermuda</td>\n",
              "      <td>Hamilton</td>\n",
              "      <td>False</td>\n",
              "      <td>63903</td>\n",
              "      <td>North America</td>\n",
              "      <td>54.00</td>\n",
              "      <td>Island</td>\n",
              "      <td>Americas</td>\n",
              "      <td>North America</td>\n",
              "      <td>['UTC-04:00']</td>\n",
              "    </tr>\n",
              "    <tr>\n",
              "      <th>4</th>\n",
              "      <td>Vatican City</td>\n",
              "      <td>Vatican City</td>\n",
              "      <td>True</td>\n",
              "      <td>451</td>\n",
              "      <td>Europe</td>\n",
              "      <td>0.44</td>\n",
              "      <td>['ITA']</td>\n",
              "      <td>Europe</td>\n",
              "      <td>Southern Europe</td>\n",
              "      <td>['UTC+01:00']</td>\n",
              "    </tr>\n",
              "    <tr>\n",
              "      <th>...</th>\n",
              "      <td>...</td>\n",
              "      <td>...</td>\n",
              "      <td>...</td>\n",
              "      <td>...</td>\n",
              "      <td>...</td>\n",
              "      <td>...</td>\n",
              "      <td>...</td>\n",
              "      <td>...</td>\n",
              "      <td>...</td>\n",
              "      <td>...</td>\n",
              "    </tr>\n",
              "    <tr>\n",
              "      <th>245</th>\n",
              "      <td>South Sudan</td>\n",
              "      <td>Juba</td>\n",
              "      <td>True</td>\n",
              "      <td>11193729</td>\n",
              "      <td>Africa</td>\n",
              "      <td>619745.00</td>\n",
              "      <td>['CAF', 'COD', 'ETH', 'KEN', 'SDN', 'UGA']</td>\n",
              "      <td>Africa</td>\n",
              "      <td>Middle Africa</td>\n",
              "      <td>['UTC+03:00']</td>\n",
              "    </tr>\n",
              "    <tr>\n",
              "      <th>246</th>\n",
              "      <td>Honduras</td>\n",
              "      <td>Tegucigalpa</td>\n",
              "      <td>True</td>\n",
              "      <td>9904608</td>\n",
              "      <td>North America</td>\n",
              "      <td>112492.00</td>\n",
              "      <td>['GTM', 'SLV', 'NIC']</td>\n",
              "      <td>Americas</td>\n",
              "      <td>Central America</td>\n",
              "      <td>['UTC-06:00']</td>\n",
              "    </tr>\n",
              "    <tr>\n",
              "      <th>247</th>\n",
              "      <td>Saint Vincent and the Grenadines</td>\n",
              "      <td>Kingstown</td>\n",
              "      <td>True</td>\n",
              "      <td>110947</td>\n",
              "      <td>North America</td>\n",
              "      <td>389.00</td>\n",
              "      <td>Island</td>\n",
              "      <td>Americas</td>\n",
              "      <td>Caribbean</td>\n",
              "      <td>['UTC-04:00']</td>\n",
              "    </tr>\n",
              "    <tr>\n",
              "      <th>248</th>\n",
              "      <td>Sri Lanka</td>\n",
              "      <td>Sri Jayawardenepura Kotte</td>\n",
              "      <td>True</td>\n",
              "      <td>21919000</td>\n",
              "      <td>Asia</td>\n",
              "      <td>65610.00</td>\n",
              "      <td>['IND']</td>\n",
              "      <td>Asia</td>\n",
              "      <td>Southern Asia</td>\n",
              "      <td>['UTC+05:30']</td>\n",
              "    </tr>\n",
              "    <tr>\n",
              "      <th>249</th>\n",
              "      <td>Hong Kong</td>\n",
              "      <td>City of Victoria</td>\n",
              "      <td>False</td>\n",
              "      <td>7500700</td>\n",
              "      <td>Asia</td>\n",
              "      <td>1104.00</td>\n",
              "      <td>['CHN']</td>\n",
              "      <td>Asia</td>\n",
              "      <td>Eastern Asia</td>\n",
              "      <td>['UTC+08:00']</td>\n",
              "    </tr>\n",
              "  </tbody>\n",
              "</table>\n",
              "<p>250 rows × 10 columns</p>\n",
              "</div>"
            ],
            "text/plain": [
              "                                 Name                    Capital  \\\n",
              "0                              Cyprus                    Nicosia   \n",
              "1                             Eritrea                     Asmara   \n",
              "2                             Liberia                   Monrovia   \n",
              "3                             Bermuda                   Hamilton   \n",
              "4                        Vatican City               Vatican City   \n",
              "..                                ...                        ...   \n",
              "245                       South Sudan                       Juba   \n",
              "246                          Honduras                Tegucigalpa   \n",
              "247  Saint Vincent and the Grenadines                  Kingstown   \n",
              "248                         Sri Lanka  Sri Jayawardenepura Kotte   \n",
              "249                         Hong Kong           City of Victoria   \n",
              "\n",
              "     Is_UN_member  Population      Continent       Area  \\\n",
              "0            True     1207361         Europe    9251.00   \n",
              "1            True     5352000         Africa  117600.00   \n",
              "2            True     5057677         Africa  111369.00   \n",
              "3           False       63903  North America      54.00   \n",
              "4            True         451         Europe       0.44   \n",
              "..            ...         ...            ...        ...   \n",
              "245          True    11193729         Africa  619745.00   \n",
              "246          True     9904608  North America  112492.00   \n",
              "247          True      110947  North America     389.00   \n",
              "248          True    21919000           Asia   65610.00   \n",
              "249         False     7500700           Asia    1104.00   \n",
              "\n",
              "                                    Border_with    Region        Subregion  \\\n",
              "0                                        Island    Europe  Southern Europe   \n",
              "1                         ['DJI', 'ETH', 'SDN']    Africa   Eastern Africa   \n",
              "2                         ['GIN', 'CIV', 'SLE']    Africa   Western Africa   \n",
              "3                                        Island  Americas    North America   \n",
              "4                                       ['ITA']    Europe  Southern Europe   \n",
              "..                                          ...       ...              ...   \n",
              "245  ['CAF', 'COD', 'ETH', 'KEN', 'SDN', 'UGA']    Africa    Middle Africa   \n",
              "246                       ['GTM', 'SLV', 'NIC']  Americas  Central America   \n",
              "247                                      Island  Americas        Caribbean   \n",
              "248                                     ['IND']      Asia    Southern Asia   \n",
              "249                                     ['CHN']      Asia     Eastern Asia   \n",
              "\n",
              "         Timezones  \n",
              "0    ['UTC+02:00']  \n",
              "1    ['UTC+03:00']  \n",
              "2          ['UTC']  \n",
              "3    ['UTC-04:00']  \n",
              "4    ['UTC+01:00']  \n",
              "..             ...  \n",
              "245  ['UTC+03:00']  \n",
              "246  ['UTC-06:00']  \n",
              "247  ['UTC-04:00']  \n",
              "248  ['UTC+05:30']  \n",
              "249  ['UTC+08:00']  \n",
              "\n",
              "[250 rows x 10 columns]"
            ]
          },
          "execution_count": 94,
          "metadata": {},
          "output_type": "execute_result"
        }
      ],
      "source": [
        "joined1_df = pd.merge(social_status_df, borders_df, on=\"Name\")\n",
        "joined2_df = pd.merge(joined1_df, region_time_df, on=\"Name\")\n",
        "joined2_df"
      ]
    }
  ],
  "metadata": {
    "colab": {
      "provenance": []
    },
    "kernelspec": {
      "display_name": "Python 3",
      "name": "python3"
    },
    "language_info": {
      "codemirror_mode": {
        "name": "ipython",
        "version": 3
      },
      "file_extension": ".py",
      "mimetype": "text/x-python",
      "name": "python",
      "nbconvert_exporter": "python",
      "pygments_lexer": "ipython3",
      "version": "3.9.7"
    }
  },
  "nbformat": 4,
  "nbformat_minor": 0
}
